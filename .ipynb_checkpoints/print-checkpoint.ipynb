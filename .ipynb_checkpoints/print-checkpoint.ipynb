{
 "cells": [
  {
   "cell_type": "code",
   "execution_count": 2,
   "metadata": {},
   "outputs": [],
   "source": [
    "def welcome():\n",
    "    print(\"Welcome to Otero Assassins!\")\n",
    "    print(\"Would you like to watch as an entire dorm gets killed off one by one?\")\n",
    "    print(\"Well, you can't.\")\n",
    "    print(\"But enjoy this animation of a bunch of nodes dying off in lieu of the actual thing!\")\n",
    "    instruction()"
   ]
  },
  {
   "cell_type": "code",
   "execution_count": 3,
   "metadata": {},
   "outputs": [],
   "source": [
    "def instruction():\n",
    "    instruction = input(\"Before we start, would you like a quick overview of the game? Y/N \")\n",
    "    while (instruction != \"Y\" and instruction != \"N\"):\n",
    "        print(\"Sorry, please enter either 'Y' or 'N':\")\n",
    "        instruction = input(\"Would you like a quick overview of the game? Y/N \")\n",
    "    if instruction == \"N\":\n",
    "        print(\"\\nGreat! Let's get started!\\n\")\n",
    "    elif instruction == \"Y\":\n",
    "        print(\"\\nGreat! Here's how Assassins works:\\n\")\n",
    "        assassins()"
   ]
  },
  {
   "cell_type": "code",
   "execution_count": 4,
   "metadata": {},
   "outputs": [],
   "source": [
    "def assassins():\n",
    "    print(\"Assassins is a live-action game in which players try to eliminate one another using mock weapons.\")\n",
    "    print(\"Each player has a specific target, and their role is to track and eliminate that target.\")\n",
    "    print(\"Once the player has eliminated their target, they proceed to track their victim's target.\")\n",
    "    print(\"The game is over when there is only one player remaining.\")"
   ]
  },
  {
   "cell_type": "code",
   "execution_count": null,
   "metadata": {},
   "outputs": [],
   "source": []
  }
 ],
 "metadata": {
  "kernelspec": {
   "display_name": "Python 3",
   "language": "python",
   "name": "python3"
  },
  "language_info": {
   "codemirror_mode": {
    "name": "ipython",
    "version": 3
   },
   "file_extension": ".py",
   "mimetype": "text/x-python",
   "name": "python",
   "nbconvert_exporter": "python",
   "pygments_lexer": "ipython3",
   "version": "3.6.4"
  }
 },
 "nbformat": 4,
 "nbformat_minor": 2
}

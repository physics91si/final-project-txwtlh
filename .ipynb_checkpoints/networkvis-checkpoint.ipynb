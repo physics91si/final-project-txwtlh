{
 "cells": [
  {
   "cell_type": "code",
   "execution_count": 1,
   "metadata": {},
   "outputs": [
    {
     "data": {
      "text/plain": [
       "<function matplotlib.pyplot.ion>"
      ]
     },
     "execution_count": 1,
     "metadata": {},
     "output_type": "execute_result"
    }
   ],
   "source": [
    "import print\n",
    "import data\n",
    "import networkx as nx\n",
    "import matplotlib.pyplot as plt\n",
    "import matplotlib.animation as animation\n",
    "import pylab\n",
    "pylab.ion"
   ]
  },
  {
   "cell_type": "code",
   "execution_count": null,
   "metadata": {},
   "outputs": [],
   "source": [
    "print.welcome()"
   ]
  },
  {
   "cell_type": "code",
   "execution_count": null,
   "metadata": {},
   "outputs": [],
   "source": [
    "# Number of people playing Assassins\n",
    "nplayers = len(data.players)\n",
    "nelim = 0"
   ]
  },
  {
   "cell_type": "code",
   "execution_count": null,
   "metadata": {},
   "outputs": [],
   "source": [
    "# Create a network (MultiDiGraph)\n",
    "# Each node represents a player\n",
    "# Each edge {u, v} represents player v as the target of player u\n",
    "G = nx.DiGraph()\n",
    "for i in range(nplayers):\n",
    "    G.add_edge(data.players[i], data.players[(i+1)%nplayers])"
   ]
  },
  {
   "cell_type": "code",
   "execution_count": null,
   "metadata": {},
   "outputs": [],
   "source": [
    "ef find_assassin(victim):\n",
    "    for n in G:\n",
    "        for nbr in G[n]:\n",
    "            if nbr == victim: return n\n",
    "\n",
    "def find_new_target(victim):\n",
    "    for n in G:\n",
    "        if n == victim: return G[n][0]"
   ]
  },
  {
   "cell_type": "code",
   "execution_count": null,
   "metadata": {
    "scrolled": true
   },
   "outputs": [],
   "source": [
    "def update_network():\n",
    "    global nelim\n",
    "    # Need to work with G instead of data.players\n",
    "    victim = data.eliminated[nelim]\n",
    "    assassin = find_assassin(victim)\n",
    "    new_target = find_new_target(victim)\n",
    "    G.remove_edge(assassin, victim)\n",
    "    G.remove_edge(victim, new_target)\n",
    "    G.remove_node(victim)\n",
    "    G.add_edge(assassin, new_target)\n",
    "\n",
    "    nelim += 1\n",
    "    nx.draw(G, pos=nx.kamada_kawai_layout(G), arrows=True, with_labels=True)"
   ]
  },
  {
   "cell_type": "code",
   "execution_count": null,
   "metadata": {},
   "outputs": [],
   "source": [
    "pylab.show()\n",
    "pylab.draw()\n",
    "for i in range(len(data.eliminated)):\n",
    "    update_network()\n",
    "    pylab.draw()\n",
    "    plt.pause(2)"
   ]
  }
 ],
 "metadata": {
  "kernelspec": {
   "display_name": "Python 3",
   "language": "python",
   "name": "python3"
  },
  "language_info": {
   "codemirror_mode": {
    "name": "ipython",
    "version": 3
   },
   "file_extension": ".py",
   "mimetype": "text/x-python",
   "name": "python",
   "nbconvert_exporter": "python",
   "pygments_lexer": "ipython3",
   "version": "3.6.4"
  }
 },
 "nbformat": 4,
 "nbformat_minor": 2
}
